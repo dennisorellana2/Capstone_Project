{
  "nbformat": 4,
  "nbformat_minor": 0,
  "metadata": {
    "colab": {
      "name": "Data 670 Capstone Project Part 3.ipynb",
      "provenance": [],
      "collapsed_sections": [],
      "machine_shape": "hm",
      "authorship_tag": "ABX9TyPEEVEpDBp3+mzh+hmDi/zk",
      "include_colab_link": true
    },
    "kernelspec": {
      "name": "python3",
      "display_name": "Python 3"
    },
    "accelerator": "GPU"
  },
  "cells": [
    {
      "cell_type": "markdown",
      "metadata": {
        "id": "view-in-github",
        "colab_type": "text"
      },
      "source": [
        "<a href=\"https://colab.research.google.com/github/dennisorellana2/Capstone_Project/blob/main/Data_670_Capstone_Project_Part_3.ipynb\" target=\"_parent\"><img src=\"https://colab.research.google.com/assets/colab-badge.svg\" alt=\"Open In Colab\"/></a>"
      ]
    },
    {
      "cell_type": "markdown",
      "metadata": {
        "id": "zMRvAqfHhk1k"
      },
      "source": [
        "# Dennis Orellana\r\n",
        "## Data 670 Capstone Project Part 3\r\n",
        "\r\n",
        "## Purpose: This is part 3 of my Capstone Project. This section is comparing machine learning models for the \"job_posting_final.csv\".\r\n"
      ]
    },
    {
      "cell_type": "code",
      "metadata": {
        "colab": {
          "base_uri": "https://localhost:8080/"
        },
        "id": "05OMIIOGeOHa",
        "outputId": "17eef266-cc55-4c61-8039-4b1dd6ab60f0"
      },
      "source": [
        "# Install the lazypredict library \r\n",
        "!pip install lazypredict"
      ],
      "execution_count": 1,
      "outputs": [
        {
          "output_type": "stream",
          "text": [
            "Requirement already satisfied: lazypredict in /usr/local/lib/python3.7/dist-packages (0.2.9)\n",
            "Requirement already satisfied: numpy==1.19.1 in /usr/local/lib/python3.7/dist-packages (from lazypredict) (1.19.1)\n",
            "Requirement already satisfied: scikit-learn==0.23.1 in /usr/local/lib/python3.7/dist-packages (from lazypredict) (0.23.1)\n",
            "Requirement already satisfied: pandas==1.0.5 in /usr/local/lib/python3.7/dist-packages (from lazypredict) (1.0.5)\n",
            "Requirement already satisfied: tqdm==4.56.0 in /usr/local/lib/python3.7/dist-packages (from lazypredict) (4.56.0)\n",
            "Requirement already satisfied: six==1.15.0 in /usr/local/lib/python3.7/dist-packages (from lazypredict) (1.15.0)\n",
            "Requirement already satisfied: scipy==1.5.4 in /usr/local/lib/python3.7/dist-packages (from lazypredict) (1.5.4)\n",
            "Requirement already satisfied: lightgbm==2.3.1 in /usr/local/lib/python3.7/dist-packages (from lazypredict) (2.3.1)\n",
            "Requirement already satisfied: xgboost==1.1.1 in /usr/local/lib/python3.7/dist-packages (from lazypredict) (1.1.1)\n",
            "Requirement already satisfied: PyYAML==5.3.1 in /usr/local/lib/python3.7/dist-packages (from lazypredict) (5.3.1)\n",
            "Requirement already satisfied: click==7.1.2 in /usr/local/lib/python3.7/dist-packages (from lazypredict) (7.1.2)\n",
            "Requirement already satisfied: pytest==5.4.3 in /usr/local/lib/python3.7/dist-packages (from lazypredict) (5.4.3)\n",
            "Requirement already satisfied: joblib==1.0.0 in /usr/local/lib/python3.7/dist-packages (from lazypredict) (1.0.0)\n",
            "Requirement already satisfied: threadpoolctl>=2.0.0 in /usr/local/lib/python3.7/dist-packages (from scikit-learn==0.23.1->lazypredict) (2.1.0)\n",
            "Requirement already satisfied: python-dateutil>=2.6.1 in /usr/local/lib/python3.7/dist-packages (from pandas==1.0.5->lazypredict) (2.8.1)\n",
            "Requirement already satisfied: pytz>=2017.2 in /usr/local/lib/python3.7/dist-packages (from pandas==1.0.5->lazypredict) (2018.9)\n",
            "Requirement already satisfied: wcwidth in /usr/local/lib/python3.7/dist-packages (from pytest==5.4.3->lazypredict) (0.2.5)\n",
            "Requirement already satisfied: more-itertools>=4.0.0 in /usr/local/lib/python3.7/dist-packages (from pytest==5.4.3->lazypredict) (8.7.0)\n",
            "Requirement already satisfied: importlib-metadata>=0.12; python_version < \"3.8\" in /usr/local/lib/python3.7/dist-packages (from pytest==5.4.3->lazypredict) (3.7.0)\n",
            "Requirement already satisfied: pluggy<1.0,>=0.12 in /usr/local/lib/python3.7/dist-packages (from pytest==5.4.3->lazypredict) (0.13.1)\n",
            "Requirement already satisfied: packaging in /usr/local/lib/python3.7/dist-packages (from pytest==5.4.3->lazypredict) (20.9)\n",
            "Requirement already satisfied: attrs>=17.4.0 in /usr/local/lib/python3.7/dist-packages (from pytest==5.4.3->lazypredict) (20.3.0)\n",
            "Requirement already satisfied: py>=1.5.0 in /usr/local/lib/python3.7/dist-packages (from pytest==5.4.3->lazypredict) (1.10.0)\n",
            "Requirement already satisfied: zipp>=0.5 in /usr/local/lib/python3.7/dist-packages (from importlib-metadata>=0.12; python_version < \"3.8\"->pytest==5.4.3->lazypredict) (3.4.1)\n",
            "Requirement already satisfied: typing-extensions>=3.6.4; python_version < \"3.8\" in /usr/local/lib/python3.7/dist-packages (from importlib-metadata>=0.12; python_version < \"3.8\"->pytest==5.4.3->lazypredict) (3.7.4.3)\n",
            "Requirement already satisfied: pyparsing>=2.0.2 in /usr/local/lib/python3.7/dist-packages (from packaging->pytest==5.4.3->lazypredict) (2.4.7)\n"
          ],
          "name": "stdout"
        }
      ]
    },
    {
      "cell_type": "code",
      "metadata": {
        "id": "TWGGFRDjehma"
      },
      "source": [
        "# Import Libraries\r\n",
        "import pandas as pd \r\n",
        "import numpy as np \r\n",
        "import seaborn as sb\r\n",
        "import matplotlib.pyplot as plt\r\n",
        "import lazypredict\r\n"
      ],
      "execution_count": 2,
      "outputs": []
    },
    {
      "cell_type": "code",
      "metadata": {
        "colab": {
          "base_uri": "https://localhost:8080/"
        },
        "id": "zm9HVXfqekXi",
        "outputId": "489028a5-9f0a-42c1-faee-36e9061de1a4"
      },
      "source": [
        "from lazypredict.Supervised import LazyClassifier\r\n",
        "from sklearn.model_selection import train_test_split"
      ],
      "execution_count": 3,
      "outputs": [
        {
          "output_type": "stream",
          "text": [
            "/usr/local/lib/python3.7/dist-packages/sklearn/utils/deprecation.py:143: FutureWarning: The sklearn.utils.testing module is  deprecated in version 0.22 and will be removed in version 0.24. The corresponding classes / functions should instead be imported from sklearn.utils. Anything that cannot be imported from sklearn.utils is now part of the private API.\n",
            "  warnings.warn(message, FutureWarning)\n"
          ],
          "name": "stderr"
        }
      ]
    },
    {
      "cell_type": "code",
      "metadata": {
        "colab": {
          "resources": {
            "http://localhost:8080/nbextensions/google.colab/files.js": {
              "data": "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",
              "ok": true,
              "headers": [
                [
                  "content-type",
                  "application/javascript"
                ]
              ],
              "status": 200,
              "status_text": ""
            }
          },
          "base_uri": "https://localhost:8080/",
          "height": 89
        },
        "id": "J4NTL1Wfn6cW",
        "outputId": "d508ea78-0979-42e5-a98c-fdeb7f7bbfd4"
      },
      "source": [
        "# upload the csv file from local directory\r\n",
        "from google.colab import files\r\n",
        "\r\n",
        "uploaded = files.upload()\r\n",
        "\r\n",
        "for fn in uploaded.keys():\r\n",
        "  print('User uploaded file \"{name}\" with length {length} bytes'.format(\r\n",
        "      name=fn, length=len(uploaded[fn])))"
      ],
      "execution_count": 4,
      "outputs": [
        {
          "output_type": "display_data",
          "data": {
            "text/html": [
              "\n",
              "     <input type=\"file\" id=\"files-91cb1f0a-c17e-4087-86f4-57255f18f3e9\" name=\"files[]\" multiple disabled\n",
              "        style=\"border:none\" />\n",
              "     <output id=\"result-91cb1f0a-c17e-4087-86f4-57255f18f3e9\">\n",
              "      Upload widget is only available when the cell has been executed in the\n",
              "      current browser session. Please rerun this cell to enable.\n",
              "      </output>\n",
              "      <script src=\"/nbextensions/google.colab/files.js\"></script> "
            ],
            "text/plain": [
              "<IPython.core.display.HTML object>"
            ]
          },
          "metadata": {
            "tags": []
          }
        },
        {
          "output_type": "stream",
          "text": [
            "Saving job_posting_final.csv to job_posting_final (3).csv\n",
            "User uploaded file \"job_posting_final.csv\" with length 2331010 bytes\n"
          ],
          "name": "stdout"
        }
      ]
    },
    {
      "cell_type": "code",
      "metadata": {
        "id": "OK_RKCcshx9G"
      },
      "source": [
        "# load the dataset from working directory \r\n",
        "\r\n",
        "job_posting_final = pd.read_csv('job_posting_final.csv')"
      ],
      "execution_count": 5,
      "outputs": []
    },
    {
      "cell_type": "markdown",
      "metadata": {
        "id": "zIvV9OJU-9sG"
      },
      "source": [
        "## Split dataset into training and test"
      ]
    },
    {
      "cell_type": "code",
      "metadata": {
        "id": "CsFxnqVl-W29"
      },
      "source": [
        "# set the X and y varaibles for Implementation of Logistic Regression\r\n",
        "x = job_posting_final[['job_title', 'job_description', 'location', 'city', 'state', 'zip_code',\r\n",
        "       'apply_url', 'company_name', 'companydescription', 'uniq_id',\r\n",
        "       'crawl_timestamp', 'job_board', 'job_id', 'department', 'requirements',\r\n",
        "       'benefits', 'telecommuting', 'has_company_logo', 'has_questions',\r\n",
        "       'function', 'fraudulent', 'job_type', 'Full Time', 'I.T']].values\r\n",
        "\r\n",
        "y = job_posting_final[['fraudulent']].values"
      ],
      "execution_count": 6,
      "outputs": []
    },
    {
      "cell_type": "code",
      "metadata": {
        "id": "4LyEPTCd3Whi"
      },
      "source": [
        "# set the X and Y varaibles \r\n",
        "X = job_posting_final[['job_title', 'job_description', 'location', 'city', 'state', 'zip_code',\r\n",
        "       'apply_url', 'company_name', 'companydescription', 'uniq_id',\r\n",
        "       'crawl_timestamp', 'job_board', 'job_id', 'department', 'requirements',\r\n",
        "       'benefits', 'telecommuting', 'has_company_logo', 'has_questions',\r\n",
        "       'function', 'fraudulent', 'job_type', 'Full Time', 'I.T']].values\r\n",
        "\r\n",
        "Y = job_posting_final[['fraudulent']].values"
      ],
      "execution_count": 7,
      "outputs": []
    },
    {
      "cell_type": "code",
      "metadata": {
        "id": "_y7jP1X8CE2_"
      },
      "source": [
        "# Data split\r\n",
        "X_train, X_test, Y_train, Y_test = train_test_split(X, Y,test_size=.2,random_state =42)"
      ],
      "execution_count": 8,
      "outputs": []
    },
    {
      "cell_type": "code",
      "metadata": {
        "colab": {
          "base_uri": "https://localhost:8080/"
        },
        "id": "z4ZgGJU7CXUJ",
        "outputId": "e147fea9-22e8-449c-f785-52c6ef88b155"
      },
      "source": [
        "# Data split shape\r\n",
        "X_train.shape, X_test.shape, Y_train.shape, Y_test.shape"
      ],
      "execution_count": 9,
      "outputs": [
        {
          "output_type": "execute_result",
          "data": {
            "text/plain": [
              "((27222, 24), (6806, 24), (27222, 1), (6806, 1))"
            ]
          },
          "metadata": {
            "tags": []
          },
          "execution_count": 9
        }
      ]
    },
    {
      "cell_type": "markdown",
      "metadata": {
        "id": "nS8h1_83hc7g"
      },
      "source": [
        "## Predictive Models##"
      ]
    },
    {
      "cell_type": "code",
      "metadata": {
        "colab": {
          "base_uri": "https://localhost:8080/"
        },
        "id": "q6j9eCl0uOia",
        "outputId": "c1889dba-bea3-442f-de3c-4a34591d1d94"
      },
      "source": [
        "# Builds the lazyclassifier\r\n",
        "clf = LazyClassifier(verbose=0,ignore_warnings=True, custom_metric=None)\r\n",
        "models,predictions = clf.fit(X_train, X_test, Y_train, Y_test)"
      ],
      "execution_count": 10,
      "outputs": [
        {
          "output_type": "stream",
          "text": [
            "100%|██████████| 29/29 [02:25<00:00,  5.00s/it]\n"
          ],
          "name": "stderr"
        }
      ]
    },
    {
      "cell_type": "markdown",
      "metadata": {
        "id": "Pn0rnX-yAFjm"
      },
      "source": [
        "### Prints the model performance"
      ]
    },
    {
      "cell_type": "code",
      "metadata": {
        "colab": {
          "base_uri": "https://localhost:8080/",
          "height": 917
        },
        "id": "uAEcoC130d_u",
        "outputId": "cfbc0d68-f2b3-4a07-c2a2-58c7504c6642"
      },
      "source": [
        "# print the models\r\n",
        "models"
      ],
      "execution_count": 11,
      "outputs": [
        {
          "output_type": "execute_result",
          "data": {
            "text/html": [
              "<div>\n",
              "<style scoped>\n",
              "    .dataframe tbody tr th:only-of-type {\n",
              "        vertical-align: middle;\n",
              "    }\n",
              "\n",
              "    .dataframe tbody tr th {\n",
              "        vertical-align: top;\n",
              "    }\n",
              "\n",
              "    .dataframe thead th {\n",
              "        text-align: right;\n",
              "    }\n",
              "</style>\n",
              "<table border=\"1\" class=\"dataframe\">\n",
              "  <thead>\n",
              "    <tr style=\"text-align: right;\">\n",
              "      <th></th>\n",
              "      <th>Accuracy</th>\n",
              "      <th>Balanced Accuracy</th>\n",
              "      <th>ROC AUC</th>\n",
              "      <th>F1 Score</th>\n",
              "      <th>Time Taken</th>\n",
              "    </tr>\n",
              "    <tr>\n",
              "      <th>Model</th>\n",
              "      <th></th>\n",
              "      <th></th>\n",
              "      <th></th>\n",
              "      <th></th>\n",
              "      <th></th>\n",
              "    </tr>\n",
              "  </thead>\n",
              "  <tbody>\n",
              "    <tr>\n",
              "      <th>AdaBoostClassifier</th>\n",
              "      <td>1.00</td>\n",
              "      <td>1.00</td>\n",
              "      <td>1.00</td>\n",
              "      <td>1.00</td>\n",
              "      <td>0.08</td>\n",
              "    </tr>\n",
              "    <tr>\n",
              "      <th>BaggingClassifier</th>\n",
              "      <td>1.00</td>\n",
              "      <td>1.00</td>\n",
              "      <td>1.00</td>\n",
              "      <td>1.00</td>\n",
              "      <td>0.23</td>\n",
              "    </tr>\n",
              "    <tr>\n",
              "      <th>XGBClassifier</th>\n",
              "      <td>1.00</td>\n",
              "      <td>1.00</td>\n",
              "      <td>1.00</td>\n",
              "      <td>1.00</td>\n",
              "      <td>0.55</td>\n",
              "    </tr>\n",
              "    <tr>\n",
              "      <th>SVC</th>\n",
              "      <td>1.00</td>\n",
              "      <td>1.00</td>\n",
              "      <td>1.00</td>\n",
              "      <td>1.00</td>\n",
              "      <td>1.05</td>\n",
              "    </tr>\n",
              "    <tr>\n",
              "      <th>SGDClassifier</th>\n",
              "      <td>1.00</td>\n",
              "      <td>1.00</td>\n",
              "      <td>1.00</td>\n",
              "      <td>1.00</td>\n",
              "      <td>0.11</td>\n",
              "    </tr>\n",
              "    <tr>\n",
              "      <th>RidgeClassifierCV</th>\n",
              "      <td>1.00</td>\n",
              "      <td>1.00</td>\n",
              "      <td>1.00</td>\n",
              "      <td>1.00</td>\n",
              "      <td>0.12</td>\n",
              "    </tr>\n",
              "    <tr>\n",
              "      <th>RidgeClassifier</th>\n",
              "      <td>1.00</td>\n",
              "      <td>1.00</td>\n",
              "      <td>1.00</td>\n",
              "      <td>1.00</td>\n",
              "      <td>0.07</td>\n",
              "    </tr>\n",
              "    <tr>\n",
              "      <th>RandomForestClassifier</th>\n",
              "      <td>1.00</td>\n",
              "      <td>1.00</td>\n",
              "      <td>1.00</td>\n",
              "      <td>1.00</td>\n",
              "      <td>1.21</td>\n",
              "    </tr>\n",
              "    <tr>\n",
              "      <th>Perceptron</th>\n",
              "      <td>1.00</td>\n",
              "      <td>1.00</td>\n",
              "      <td>1.00</td>\n",
              "      <td>1.00</td>\n",
              "      <td>0.10</td>\n",
              "    </tr>\n",
              "    <tr>\n",
              "      <th>PassiveAggressiveClassifier</th>\n",
              "      <td>1.00</td>\n",
              "      <td>1.00</td>\n",
              "      <td>1.00</td>\n",
              "      <td>1.00</td>\n",
              "      <td>0.08</td>\n",
              "    </tr>\n",
              "    <tr>\n",
              "      <th>LogisticRegression</th>\n",
              "      <td>1.00</td>\n",
              "      <td>1.00</td>\n",
              "      <td>1.00</td>\n",
              "      <td>1.00</td>\n",
              "      <td>0.20</td>\n",
              "    </tr>\n",
              "    <tr>\n",
              "      <th>LinearSVC</th>\n",
              "      <td>1.00</td>\n",
              "      <td>1.00</td>\n",
              "      <td>1.00</td>\n",
              "      <td>1.00</td>\n",
              "      <td>1.01</td>\n",
              "    </tr>\n",
              "    <tr>\n",
              "      <th>LabelSpreading</th>\n",
              "      <td>1.00</td>\n",
              "      <td>1.00</td>\n",
              "      <td>1.00</td>\n",
              "      <td>1.00</td>\n",
              "      <td>47.26</td>\n",
              "    </tr>\n",
              "    <tr>\n",
              "      <th>LabelPropagation</th>\n",
              "      <td>1.00</td>\n",
              "      <td>1.00</td>\n",
              "      <td>1.00</td>\n",
              "      <td>1.00</td>\n",
              "      <td>29.70</td>\n",
              "    </tr>\n",
              "    <tr>\n",
              "      <th>KNeighborsClassifier</th>\n",
              "      <td>1.00</td>\n",
              "      <td>1.00</td>\n",
              "      <td>1.00</td>\n",
              "      <td>1.00</td>\n",
              "      <td>4.32</td>\n",
              "    </tr>\n",
              "    <tr>\n",
              "      <th>GaussianNB</th>\n",
              "      <td>1.00</td>\n",
              "      <td>1.00</td>\n",
              "      <td>1.00</td>\n",
              "      <td>1.00</td>\n",
              "      <td>0.06</td>\n",
              "    </tr>\n",
              "    <tr>\n",
              "      <th>ExtraTreesClassifier</th>\n",
              "      <td>1.00</td>\n",
              "      <td>1.00</td>\n",
              "      <td>1.00</td>\n",
              "      <td>1.00</td>\n",
              "      <td>0.73</td>\n",
              "    </tr>\n",
              "    <tr>\n",
              "      <th>ExtraTreeClassifier</th>\n",
              "      <td>1.00</td>\n",
              "      <td>1.00</td>\n",
              "      <td>1.00</td>\n",
              "      <td>1.00</td>\n",
              "      <td>0.06</td>\n",
              "    </tr>\n",
              "    <tr>\n",
              "      <th>DecisionTreeClassifier</th>\n",
              "      <td>1.00</td>\n",
              "      <td>1.00</td>\n",
              "      <td>1.00</td>\n",
              "      <td>1.00</td>\n",
              "      <td>0.09</td>\n",
              "    </tr>\n",
              "    <tr>\n",
              "      <th>CalibratedClassifierCV</th>\n",
              "      <td>1.00</td>\n",
              "      <td>1.00</td>\n",
              "      <td>1.00</td>\n",
              "      <td>1.00</td>\n",
              "      <td>2.90</td>\n",
              "    </tr>\n",
              "    <tr>\n",
              "      <th>BernoulliNB</th>\n",
              "      <td>1.00</td>\n",
              "      <td>1.00</td>\n",
              "      <td>1.00</td>\n",
              "      <td>1.00</td>\n",
              "      <td>0.07</td>\n",
              "    </tr>\n",
              "    <tr>\n",
              "      <th>LGBMClassifier</th>\n",
              "      <td>1.00</td>\n",
              "      <td>1.00</td>\n",
              "      <td>1.00</td>\n",
              "      <td>1.00</td>\n",
              "      <td>0.26</td>\n",
              "    </tr>\n",
              "    <tr>\n",
              "      <th>NuSVC</th>\n",
              "      <td>0.99</td>\n",
              "      <td>0.99</td>\n",
              "      <td>0.99</td>\n",
              "      <td>0.99</td>\n",
              "      <td>54.19</td>\n",
              "    </tr>\n",
              "    <tr>\n",
              "      <th>NearestCentroid</th>\n",
              "      <td>0.96</td>\n",
              "      <td>0.96</td>\n",
              "      <td>0.96</td>\n",
              "      <td>0.96</td>\n",
              "      <td>0.14</td>\n",
              "    </tr>\n",
              "    <tr>\n",
              "      <th>LinearDiscriminantAnalysis</th>\n",
              "      <td>0.77</td>\n",
              "      <td>0.77</td>\n",
              "      <td>0.77</td>\n",
              "      <td>0.77</td>\n",
              "      <td>0.19</td>\n",
              "    </tr>\n",
              "    <tr>\n",
              "      <th>QuadraticDiscriminantAnalysis</th>\n",
              "      <td>0.50</td>\n",
              "      <td>0.50</td>\n",
              "      <td>0.50</td>\n",
              "      <td>0.33</td>\n",
              "      <td>0.10</td>\n",
              "    </tr>\n",
              "    <tr>\n",
              "      <th>DummyClassifier</th>\n",
              "      <td>0.49</td>\n",
              "      <td>0.49</td>\n",
              "      <td>0.49</td>\n",
              "      <td>0.49</td>\n",
              "      <td>0.05</td>\n",
              "    </tr>\n",
              "  </tbody>\n",
              "</table>\n",
              "</div>"
            ],
            "text/plain": [
              "                               Accuracy  ...  Time Taken\n",
              "Model                                    ...            \n",
              "AdaBoostClassifier                 1.00  ...        0.08\n",
              "BaggingClassifier                  1.00  ...        0.23\n",
              "XGBClassifier                      1.00  ...        0.55\n",
              "SVC                                1.00  ...        1.05\n",
              "SGDClassifier                      1.00  ...        0.11\n",
              "RidgeClassifierCV                  1.00  ...        0.12\n",
              "RidgeClassifier                    1.00  ...        0.07\n",
              "RandomForestClassifier             1.00  ...        1.21\n",
              "Perceptron                         1.00  ...        0.10\n",
              "PassiveAggressiveClassifier        1.00  ...        0.08\n",
              "LogisticRegression                 1.00  ...        0.20\n",
              "LinearSVC                          1.00  ...        1.01\n",
              "LabelSpreading                     1.00  ...       47.26\n",
              "LabelPropagation                   1.00  ...       29.70\n",
              "KNeighborsClassifier               1.00  ...        4.32\n",
              "GaussianNB                         1.00  ...        0.06\n",
              "ExtraTreesClassifier               1.00  ...        0.73\n",
              "ExtraTreeClassifier                1.00  ...        0.06\n",
              "DecisionTreeClassifier             1.00  ...        0.09\n",
              "CalibratedClassifierCV             1.00  ...        2.90\n",
              "BernoulliNB                        1.00  ...        0.07\n",
              "LGBMClassifier                     1.00  ...        0.26\n",
              "NuSVC                              0.99  ...       54.19\n",
              "NearestCentroid                    0.96  ...        0.14\n",
              "LinearDiscriminantAnalysis         0.77  ...        0.19\n",
              "QuadraticDiscriminantAnalysis      0.50  ...        0.10\n",
              "DummyClassifier                    0.49  ...        0.05\n",
              "\n",
              "[27 rows x 5 columns]"
            ]
          },
          "metadata": {
            "tags": []
          },
          "execution_count": 11
        }
      ]
    },
    {
      "cell_type": "markdown",
      "metadata": {
        "id": "HFUk433nTIBO"
      },
      "source": [
        "### Choosing three different classification algorithms from the list above which are\r\n",
        "\r\n",
        "### Logistic Regression\r\n",
        "### K Nearest Neighbours\r\n",
        "###  Random Forest"
      ]
    },
    {
      "cell_type": "markdown",
      "metadata": {
        "id": "fzVwAaGaHYlt"
      },
      "source": [
        "# Logistic Regression"
      ]
    },
    {
      "cell_type": "code",
      "metadata": {
        "colab": {
          "base_uri": "https://localhost:8080/"
        },
        "id": "VzpSZ70OByCV",
        "outputId": "4c0acdb9-0a7e-4784-d950-5ca0302cba20"
      },
      "source": [
        "# Training Model\r\n",
        "from sklearn.linear_model import LogisticRegression\r\n",
        "LgR = LogisticRegression(solver='liblinear')\r\n",
        "LgR.fit(X_train, Y_train)"
      ],
      "execution_count": 12,
      "outputs": [
        {
          "output_type": "execute_result",
          "data": {
            "text/plain": [
              "LogisticRegression(solver='liblinear')"
            ]
          },
          "metadata": {
            "tags": []
          },
          "execution_count": 12
        }
      ]
    },
    {
      "cell_type": "code",
      "metadata": {
        "colab": {
          "base_uri": "https://localhost:8080/"
        },
        "id": "VS3esgMGHHJ8",
        "outputId": "299b897c-f365-42d4-c57a-1d0a26ab33da"
      },
      "source": [
        "# Testing Model \r\n",
        "Y_pred = LgR.predict(X_test)\r\n",
        "Y_test = Y_test.flatten()\r\n",
        "Y_pred = Y_pred.flatten()\r\n",
        "Y_test.shape, Y_pred.shape"
      ],
      "execution_count": 13,
      "outputs": [
        {
          "output_type": "execute_result",
          "data": {
            "text/plain": [
              "((6806,), (6806,))"
            ]
          },
          "metadata": {
            "tags": []
          },
          "execution_count": 13
        }
      ]
    },
    {
      "cell_type": "code",
      "metadata": {
        "colab": {
          "base_uri": "https://localhost:8080/"
        },
        "id": "vfdVWSXkHTzE",
        "outputId": "567369ff-cf54-4c36-e426-c3bb0cc09a2c"
      },
      "source": [
        "# Accuracy Score\r\n",
        "from sklearn.metrics import accuracy_score\r\n",
        "accuracy_score(Y_pred, Y_test)"
      ],
      "execution_count": 14,
      "outputs": [
        {
          "output_type": "execute_result",
          "data": {
            "text/plain": [
              "1.0"
            ]
          },
          "metadata": {
            "tags": []
          },
          "execution_count": 14
        }
      ]
    },
    {
      "cell_type": "markdown",
      "metadata": {
        "id": "ER0qNdEU0aST"
      },
      "source": [
        "#### Find the Implementation of Logistic Regression"
      ]
    },
    {
      "cell_type": "code",
      "metadata": {
        "colab": {
          "base_uri": "https://localhost:8080/"
        },
        "id": "XD3Q8yZdzHiu",
        "outputId": "b0b41499-88a8-4f46-c74b-d98dc7897323"
      },
      "source": [
        "# Add a bias column to the X\r\n",
        "X = np.c_[np.ones((x.shape[0], 1)), x]\r\n",
        "X[:5]"
      ],
      "execution_count": 15,
      "outputs": [
        {
          "output_type": "execute_result",
          "data": {
            "text/plain": [
              "array([[1.0000e+00, 4.2980e+03, 1.0000e+00, 2.5350e+03, 0.0000e+00,\n",
              "        0.0000e+00, 0.0000e+00, 0.0000e+00, 0.0000e+00, 0.0000e+00,\n",
              "        0.0000e+00, 0.0000e+00, 0.0000e+00, 4.0520e+03, 8.0000e+01,\n",
              "        1.0420e+03, 2.6000e+03, 0.0000e+00, 0.0000e+00, 0.0000e+00,\n",
              "        1.0000e+00, 1.0000e+00, 0.0000e+00, 0.0000e+00, 0.0000e+00],\n",
              "       [1.0000e+00, 1.4580e+03, 1.8000e+01, 1.2490e+03, 0.0000e+00,\n",
              "        0.0000e+00, 0.0000e+00, 0.0000e+00, 0.0000e+00, 0.0000e+00,\n",
              "        0.0000e+00, 0.0000e+00, 0.0000e+00, 1.7607e+04, 1.0540e+03,\n",
              "        9.8930e+03, 4.0800e+03, 0.0000e+00, 0.0000e+00, 0.0000e+00,\n",
              "        1.8000e+01, 1.0000e+00, 0.0000e+00, 0.0000e+00, 0.0000e+00],\n",
              "       [1.0000e+00, 2.9420e+03, 0.0000e+00, 6.0000e+02, 0.0000e+00,\n",
              "        0.0000e+00, 0.0000e+00, 0.0000e+00, 0.0000e+00, 0.0000e+00,\n",
              "        0.0000e+00, 0.0000e+00, 0.0000e+00, 1.7709e+04, 1.0540e+03,\n",
              "        1.1527e+04, 3.9860e+03, 0.0000e+00, 0.0000e+00, 0.0000e+00,\n",
              "        0.0000e+00, 1.0000e+00, 0.0000e+00, 0.0000e+00, 0.0000e+00],\n",
              "       [1.0000e+00, 7.2430e+03, 3.1000e+01, 1.6460e+03, 0.0000e+00,\n",
              "        0.0000e+00, 0.0000e+00, 0.0000e+00, 0.0000e+00, 0.0000e+00,\n",
              "        0.0000e+00, 0.0000e+00, 0.0000e+00, 7.7520e+03, 1.0540e+03,\n",
              "        7.9600e+03, 5.1030e+03, 0.0000e+00, 0.0000e+00, 0.0000e+00,\n",
              "        3.1000e+01, 1.0000e+00, 0.0000e+00, 0.0000e+00, 0.0000e+00],\n",
              "       [1.0000e+00, 5.6700e+02, 1.8000e+01, 2.3300e+03, 0.0000e+00,\n",
              "        0.0000e+00, 0.0000e+00, 0.0000e+00, 0.0000e+00, 0.0000e+00,\n",
              "        0.0000e+00, 0.0000e+00, 0.0000e+00, 2.9690e+03, 1.0540e+03,\n",
              "        2.4380e+03, 4.0800e+03, 0.0000e+00, 0.0000e+00, 0.0000e+00,\n",
              "        1.8000e+01, 1.0000e+00, 0.0000e+00, 0.0000e+00, 0.0000e+00]])"
            ]
          },
          "metadata": {
            "tags": []
          },
          "execution_count": 15
        }
      ]
    },
    {
      "cell_type": "code",
      "metadata": {
        "colab": {
          "base_uri": "https://localhost:8080/"
        },
        "id": "jyFBqa9BzQKW",
        "outputId": "ae0c69b6-83ee-4cfc-b45c-5e984429398f"
      },
      "source": [
        "# make y to match with the dimensions\r\n",
        "y = y[:, np.newaxis]\r\n",
        "y[:5]"
      ],
      "execution_count": 16,
      "outputs": [
        {
          "output_type": "execute_result",
          "data": {
            "text/plain": [
              "array([[[1]],\n",
              "\n",
              "       [[1]],\n",
              "\n",
              "       [[1]],\n",
              "\n",
              "       [[1]],\n",
              "\n",
              "       [[1]]])"
            ]
          },
          "metadata": {
            "tags": []
          },
          "execution_count": 16
        }
      ]
    },
    {
      "cell_type": "code",
      "metadata": {
        "id": "wSWZuE1Z2F_U"
      },
      "source": [
        "# Create sigmoid function\r\n",
        "def sigmoid(x, theta):\r\n",
        "    z= np.dot(x, theta)\r\n",
        "    return 1/(1+np.exp(-z))"
      ],
      "execution_count": 17,
      "outputs": []
    },
    {
      "cell_type": "code",
      "metadata": {
        "id": "hRq-YNXVziI6"
      },
      "source": [
        "# Create hypothesis function with the sigmoid\r\n",
        "def hypothesis(theta, x):\r\n",
        "    return sigmoid(x, theta)"
      ],
      "execution_count": 18,
      "outputs": []
    },
    {
      "cell_type": "code",
      "metadata": {
        "id": "a2uXo8EW23dB"
      },
      "source": [
        "# Create cost function using the formula\r\n",
        "def cost_function(theta, x, y):\r\n",
        "    m = X.shape[0]\r\n",
        "    h = hypothesis(theta, x)\r\n",
        "    return -(1/m)*np.sum(y*np.log(h) + (1-y)*np.log(1-h))"
      ],
      "execution_count": 19,
      "outputs": []
    },
    {
      "cell_type": "code",
      "metadata": {
        "id": "pz9LWXea8qIj"
      },
      "source": [
        "# Create the gradient descent function \r\n",
        "def gradient(theta, x, y):\r\n",
        "    m = X.shape[0]\r\n",
        "    h = hypothesis(theta, x)\r\n",
        "    return (1/m) * np.dot(X.T, (h-y))"
      ],
      "execution_count": 20,
      "outputs": []
    },
    {
      "cell_type": "code",
      "metadata": {
        "id": "oUEwCGwj8-cW"
      },
      "source": [
        "# Import the  optimization function\r\n",
        "theta = np.zeros((X.shape[1], 1))\r\n",
        "from scipy.optimize import minimize,fmin_tnc\r\n",
        "def fit(x, y, theta):\r\n",
        "    opt_weights = fmin_tnc(func=cost_function, x0=theta, fprime=gradient, args=(x, y.flatten()))\r\n",
        "    return opt_weights[0]\r\n",
        "parameters = fit(X, y, theta)"
      ],
      "execution_count": 21,
      "outputs": []
    },
    {
      "cell_type": "code",
      "metadata": {
        "id": "2Mvc6L32yiM_"
      },
      "source": [
        "# calculate the final hypothesis\r\n",
        "h = hypothesis(parameters, X)"
      ],
      "execution_count": 22,
      "outputs": []
    },
    {
      "cell_type": "code",
      "metadata": {
        "id": "d-cfT1Lgytzc"
      },
      "source": [
        "# hypothesis outputs\r\n",
        "def predict(h):\r\n",
        "    h1 = []\r\n",
        "    for i in h:\r\n",
        "        if i>=0.5:\r\n",
        "            h1.append(1)\r\n",
        "        else:\r\n",
        "            h1.append(0)\r\n",
        "    return h1\r\n",
        "y_pred = predict(h)"
      ],
      "execution_count": 23,
      "outputs": []
    },
    {
      "cell_type": "code",
      "metadata": {
        "colab": {
          "base_uri": "https://localhost:8080/"
        },
        "id": "e-28u0S1yzk9",
        "outputId": "3498a11f-1f93-4f07-902e-6522cccb2e87"
      },
      "source": [
        "# Accuracy\r\n",
        "accuracy = 0\r\n",
        "for i in range(0, len(y_pred)):\r\n",
        "    if y_pred[i] == y[i]:\r\n",
        "        accuracy += 1\r\n",
        "accuracy/len(y)"
      ],
      "execution_count": 24,
      "outputs": [
        {
          "output_type": "execute_result",
          "data": {
            "text/plain": [
              "1.0"
            ]
          },
          "metadata": {
            "tags": []
          },
          "execution_count": 24
        }
      ]
    },
    {
      "cell_type": "code",
      "metadata": {
        "colab": {
          "base_uri": "https://localhost:8080/"
        },
        "id": "UMvK3YqpAQ9H",
        "outputId": "3601b3a2-ea8c-4bcc-8b2b-9169f72d929e"
      },
      "source": [
        "# Evaluation Logistic Regression\r\n",
        "from sklearn.metrics import confusion_matrix, accuracy_score, f1_score, log_loss\r\n",
        "cm = confusion_matrix(Y_test, Y_pred)\r\n",
        "acc = accuracy_score(Y_test, Y_pred)\r\n",
        "F1 = f1_score(Y_test, Y_pred, average=\"micro\") \r\n",
        "\r\n",
        "print(cm)\r\n",
        "print(acc)\r\n",
        "print(F1)"
      ],
      "execution_count": 25,
      "outputs": [
        {
          "output_type": "stream",
          "text": [
            "[[3403    0]\n",
            " [   0 3403]]\n",
            "1.0\n",
            "1.0\n"
          ],
          "name": "stdout"
        }
      ]
    },
    {
      "cell_type": "markdown",
      "metadata": {
        "id": "WQ9Df1zzRIKp"
      },
      "source": [
        "# K Nearest Neighbors"
      ]
    },
    {
      "cell_type": "code",
      "metadata": {
        "colab": {
          "base_uri": "https://localhost:8080/"
        },
        "id": "D9TC-pcfRGKW",
        "outputId": "baebcf71-bfff-4065-cfde-2008f8e27e5e"
      },
      "source": [
        "# Training Model\r\n",
        "from sklearn.neighbors import KNeighborsClassifier\r\n",
        "knn = KNeighborsClassifier()\r\n",
        "knn.fit(X_train,Y_train)"
      ],
      "execution_count": 26,
      "outputs": [
        {
          "output_type": "execute_result",
          "data": {
            "text/plain": [
              "KNeighborsClassifier()"
            ]
          },
          "metadata": {
            "tags": []
          },
          "execution_count": 26
        }
      ]
    },
    {
      "cell_type": "code",
      "metadata": {
        "id": "Cv5KxfMqRbGP"
      },
      "source": [
        "# Testing Model \r\n",
        "Y_pred = knn.predict(X_test)"
      ],
      "execution_count": 27,
      "outputs": []
    },
    {
      "cell_type": "code",
      "metadata": {
        "colab": {
          "base_uri": "https://localhost:8080/"
        },
        "id": "rAeq8cdtRvT-",
        "outputId": "52315b6e-b401-4b6a-e914-6750a4795c71"
      },
      "source": [
        "# Accuracy Score\r\n",
        "accuracy_score(Y_pred,Y_test)"
      ],
      "execution_count": 28,
      "outputs": [
        {
          "output_type": "execute_result",
          "data": {
            "text/plain": [
              "0.9616514839847193"
            ]
          },
          "metadata": {
            "tags": []
          },
          "execution_count": 28
        }
      ]
    },
    {
      "cell_type": "code",
      "metadata": {
        "colab": {
          "base_uri": "https://localhost:8080/"
        },
        "id": "DmHQy1ZqwgVX",
        "outputId": "ffa9d7f3-1584-4465-befa-d036812ea2d3"
      },
      "source": [
        "from sklearn.model_selection import cross_val_score\r\n",
        "# search for an optimal value of K for KNN\r\n",
        "k_range = list(range(1, 10))\r\n",
        "\r\n",
        "k_scores = []\r\n",
        "for k in k_range:\r\n",
        "    knn = KNeighborsClassifier(n_neighbors=k)\r\n",
        "    scores = cross_val_score(knn, X, Y, cv=10, scoring='accuracy')\r\n",
        "    k_scores.append(scores.mean())\r\n",
        "print(k_scores)"
      ],
      "execution_count": 29,
      "outputs": [
        {
          "output_type": "stream",
          "text": [
            "[0.9300842894959196, 0.9300842894959196, 0.9014901348414261, 0.9014901348414261, 0.8802138480363576, 0.8802138480363576, 0.8603776399528513, 0.8603776399528513, 0.844126676620881]\n"
          ],
          "name": "stdout"
        }
      ]
    },
    {
      "cell_type": "code",
      "metadata": {
        "colab": {
          "base_uri": "https://localhost:8080/",
          "height": 296
        },
        "id": "i75j9HTVyQcv",
        "outputId": "197713e6-a521-4b13-ee7d-4ce7a0bf4cf2"
      },
      "source": [
        "# plot the value of K for KNN (x-axis) versus the cross-validated accuracy (y-axis)\r\n",
        "plt.plot(k_range, k_scores)\r\n",
        "plt.xlabel('Value of K for KNN')\r\n",
        "plt.ylabel('Cross-Validated Accuracy')"
      ],
      "execution_count": 30,
      "outputs": [
        {
          "output_type": "execute_result",
          "data": {
            "text/plain": [
              "Text(0, 0.5, 'Cross-Validated Accuracy')"
            ]
          },
          "metadata": {
            "tags": []
          },
          "execution_count": 30
        },
        {
          "output_type": "display_data",
          "data": {
            "image/png": "[encoded data removed]",
            "text/plain": [
              "<Figure size 432x288 with 1 Axes>"
            ]
          },
          "metadata": {
            "tags": [],
            "needs_background": "light"
          }
        }
      ]
    },
    {
      "cell_type": "markdown",
      "metadata": {
        "id": "D3qh9Xt38W3a"
      },
      "source": [
        "The optimal value of K for KNN is 2."
      ]
    },
    {
      "cell_type": "code",
      "metadata": {
        "colab": {
          "base_uri": "https://localhost:8080/"
        },
        "id": "jtbMmjQhEiip",
        "outputId": "bc363932-b6e6-47a6-df2f-51315604aaa7"
      },
      "source": [
        "# Evaluation K Nearest Neighbors\r\n",
        "from sklearn.metrics import confusion_matrix, accuracy_score, f1_score, log_loss\r\n",
        "cm = confusion_matrix(Y_test, Y_pred)\r\n",
        "acc = accuracy_score(Y_test, Y_pred)\r\n",
        "F1 = f1_score(Y_test, Y_pred, average=\"micro\") \r\n",
        "\r\n",
        "print(cm)\r\n",
        "print(acc)\r\n",
        "print(F1)"
      ],
      "execution_count": 31,
      "outputs": [
        {
          "output_type": "stream",
          "text": [
            "[[3142  261]\n",
            " [   0 3403]]\n",
            "0.9616514839847193\n",
            "0.9616514839847193\n"
          ],
          "name": "stdout"
        }
      ]
    },
    {
      "cell_type": "markdown",
      "metadata": {
        "id": "ZatUv9p8R57B"
      },
      "source": [
        "# Random Forest "
      ]
    },
    {
      "cell_type": "code",
      "metadata": {
        "colab": {
          "base_uri": "https://localhost:8080/"
        },
        "id": "FJSXyrCaR_Xo",
        "outputId": "2b42d6ce-6a02-4e72-c3f0-197262c526e9"
      },
      "source": [
        "# Training Model\r\n",
        "from sklearn.ensemble import RandomForestClassifier\r\n",
        "rfc = RandomForestClassifier(max_features=5,n_estimators=10)\r\n",
        "rfc.fit(X_train, Y_train)"
      ],
      "execution_count": 32,
      "outputs": [
        {
          "output_type": "execute_result",
          "data": {
            "text/plain": [
              "RandomForestClassifier(max_features=5, n_estimators=10)"
            ]
          },
          "metadata": {
            "tags": []
          },
          "execution_count": 32
        }
      ]
    },
    {
      "cell_type": "code",
      "metadata": {
        "id": "XGTvNzz5SPxM"
      },
      "source": [
        "# Testing Model \r\n",
        "Y_pred = rfc.predict(X_test)\r\n",
        "Y_test = Y_test.flatten()\r\n",
        "Y_pred = Y_pred.flatten()"
      ],
      "execution_count": 33,
      "outputs": []
    },
    {
      "cell_type": "code",
      "metadata": {
        "colab": {
          "base_uri": "https://localhost:8080/"
        },
        "id": "GviKJ1NvSbyC",
        "outputId": "67eea20d-9198-4f0a-c267-39b54035a020"
      },
      "source": [
        "# Accuracy Score\r\n",
        "accuracy_score(Y_pred,Y_test)"
      ],
      "execution_count": 34,
      "outputs": [
        {
          "output_type": "execute_result",
          "data": {
            "text/plain": [
              "1.0"
            ]
          },
          "metadata": {
            "tags": []
          },
          "execution_count": 34
        }
      ]
    },
    {
      "cell_type": "code",
      "metadata": {
        "colab": {
          "base_uri": "https://localhost:8080/"
        },
        "id": "oyL2bi1gEwpu",
        "outputId": "d05553b0-86bf-4a76-eaee-1f8b960a54e4"
      },
      "source": [
        "# Evaluation Random Forest \r\n",
        "from sklearn.metrics import confusion_matrix, accuracy_score, f1_score, log_loss\r\n",
        "cm = confusion_matrix(Y_test, Y_pred)\r\n",
        "acc = accuracy_score(Y_test, Y_pred)\r\n",
        "F1 = f1_score(Y_test, Y_pred, average=\"micro\") \r\n",
        "\r\n",
        "print(cm)\r\n",
        "print(acc)\r\n",
        "print(F1)"
      ],
      "execution_count": 35,
      "outputs": [
        {
          "output_type": "stream",
          "text": [
            "[[3403    0]\n",
            " [   0 3403]]\n",
            "1.0\n",
            "1.0\n"
          ],
          "name": "stdout"
        }
      ]
    },
    {
      "cell_type": "markdown",
      "metadata": {
        "id": "GwTY9zeklm77"
      },
      "source": [
        "## 10-Fold K-Fold Cross Validation"
      ]
    },
    {
      "cell_type": "markdown",
      "metadata": {
        "id": "gH8zVhIdzUNC"
      },
      "source": [
        ""
      ]
    },
    {
      "cell_type": "code",
      "metadata": {
        "colab": {
          "base_uri": "https://localhost:8080/"
        },
        "id": "uOqXjZzDTcG9",
        "outputId": "9cfbcf5b-72eb-4660-cdfb-1ff4df4b17dc"
      },
      "source": [
        "# Logistic regression model performance using cross_val_score\r\n",
        "Log_score = cross_val_score(LogisticRegression(solver='liblinear'), X, Y,cv=10)\r\n",
        "print(Log_score)"
      ],
      "execution_count": 36,
      "outputs": [
        {
          "output_type": "stream",
          "text": [
            "[1. 1. 1. 1. 1. 1. 1. 1. 1. 1.]\n"
          ],
          "name": "stdout"
        }
      ]
    },
    {
      "cell_type": "code",
      "metadata": {
        "colab": {
          "base_uri": "https://localhost:8080/"
        },
        "id": "UxcJ5oNZucVq",
        "outputId": "b4731798-180b-42d2-e6e4-899cba993a3c"
      },
      "source": [
        "# Average logistic regression cross_val_score\r\n",
        "Log_score.mean()"
      ],
      "execution_count": 37,
      "outputs": [
        {
          "output_type": "execute_result",
          "data": {
            "text/plain": [
              "1.0"
            ]
          },
          "metadata": {
            "tags": []
          },
          "execution_count": 37
        }
      ]
    },
    {
      "cell_type": "code",
      "metadata": {
        "colab": {
          "base_uri": "https://localhost:8080/"
        },
        "id": "42erMXx9qVoZ",
        "outputId": "e0266e18-db0f-41a8-bbe7-84797bfa18c2"
      },
      "source": [
        "# K Nearest Neighbors model performance using cross_val_score\r\n",
        "knn_score = cross_val_score(KNeighborsClassifier(n_neighbors=2), X, Y,cv=10)\r\n",
        "print(knn_score)"
      ],
      "execution_count": 38,
      "outputs": [
        {
          "output_type": "stream",
          "text": [
            "[0.89568028 0.93917132 0.93593888 0.90596532 0.93476344 0.97560976\n",
            " 0.95885983 0.98648252 0.98941799 0.77895356]\n"
          ],
          "name": "stdout"
        }
      ]
    },
    {
      "cell_type": "code",
      "metadata": {
        "colab": {
          "base_uri": "https://localhost:8080/"
        },
        "id": "8Dd8awJLu8K5",
        "outputId": "a4387c45-bfa2-400f-c57b-d474a4948658"
      },
      "source": [
        "# Average K Nearest Neighbors cross_val_score\r\n",
        "knn_score.mean()"
      ],
      "execution_count": 39,
      "outputs": [
        {
          "output_type": "execute_result",
          "data": {
            "text/plain": [
              "0.9300842894959196"
            ]
          },
          "metadata": {
            "tags": []
          },
          "execution_count": 39
        }
      ]
    },
    {
      "cell_type": "code",
      "metadata": {
        "colab": {
          "base_uri": "https://localhost:8080/"
        },
        "id": "iZlWV37UqnkI",
        "outputId": "3bc73dda-1e0a-46c7-badd-f1fc14675808"
      },
      "source": [
        "# Random Forest model performance using cross_val_score\r\n",
        "rf_score = cross_val_score(RandomForestClassifier(n_estimators=10),X, Y,cv=10)\r\n",
        "print(rf_score)"
      ],
      "execution_count": 40,
      "outputs": [
        {
          "output_type": "stream",
          "text": [
            "[1. 1. 1. 1. 1. 1. 1. 1. 1. 1.]\n"
          ],
          "name": "stdout"
        }
      ]
    },
    {
      "cell_type": "code",
      "metadata": {
        "colab": {
          "base_uri": "https://localhost:8080/"
        },
        "id": "0OgSvqzezfpF",
        "outputId": "33a05df3-7fd8-4971-86f2-2015052aac81"
      },
      "source": [
        "# Average Random Forest cross_val_score\r\n",
        "knn_score.mean()"
      ],
      "execution_count": 41,
      "outputs": [
        {
          "output_type": "execute_result",
          "data": {
            "text/plain": [
              "0.9300842894959196"
            ]
          },
          "metadata": {
            "tags": []
          },
          "execution_count": 41
        }
      ]
    },
    {
      "cell_type": "markdown",
      "metadata": {
        "id": "RMzwG67BTHYw"
      },
      "source": [
        "## Computing AUROC and ROC curve values"
      ]
    },
    {
      "cell_type": "code",
      "metadata": {
        "id": "HBo97DDkTGNq"
      },
      "source": [
        "# import AUROC and ROC curve\r\n",
        "from sklearn.metrics import roc_curve, roc_auc_score"
      ],
      "execution_count": 42,
      "outputs": []
    },
    {
      "cell_type": "code",
      "metadata": {
        "id": "84cGhXx7TWBw"
      },
      "source": [
        "# Prediction probabilities\r\n",
        "r_probs = [0 for _ in range(len(Y_test))]\r\n",
        "\r\n",
        "lr_probs = LgR.predict_proba(X_test)\r\n",
        "rf_probs = rfc.predict_proba(X_test)\r\n",
        "\r\n",
        "lr_probs = lr_probs[:, 1]\r\n",
        "rf_probs = rf_probs[:, 1]"
      ],
      "execution_count": 43,
      "outputs": []
    },
    {
      "cell_type": "code",
      "metadata": {
        "id": "YApPQffVVptB"
      },
      "source": [
        "# Calculate AUROC\r\n",
        "r_auc = roc_auc_score(Y_test, r_probs)\r\n",
        "lr_auc = roc_auc_score(Y_test, lr_probs)\r\n",
        "rf_auc = roc_auc_score(Y_test, rf_probs)\r\n"
      ],
      "execution_count": 44,
      "outputs": []
    },
    {
      "cell_type": "code",
      "metadata": {
        "colab": {
          "base_uri": "https://localhost:8080/"
        },
        "id": "zfeP7fDRV-TK",
        "outputId": "1efb8133-c92e-48fb-8eb9-77773fd1c948"
      },
      "source": [
        "# Print AUROC scores\r\n",
        "print('Random (chance) Prediction: AUROC = %.3f' % (r_auc))\r\n",
        "print('Random Forest: AUROC = %.3f' % (rf_auc))\r\n",
        "print('Logistic Regression: AUROC = %.3f' % (lr_auc))"
      ],
      "execution_count": 45,
      "outputs": [
        {
          "output_type": "stream",
          "text": [
            "Random (chance) Prediction: AUROC = 0.500\n",
            "Random Forest: AUROC = 1.000\n",
            "Logistic Regression: AUROC = 1.000\n"
          ],
          "name": "stdout"
        }
      ]
    },
    {
      "cell_type": "code",
      "metadata": {
        "id": "jDY3ImeLWfEm"
      },
      "source": [
        "# Calculate ROC curve\r\n",
        "\r\n",
        "r_fpr, r_tpr, _ = roc_curve(Y_test, r_probs)\r\n",
        "rf_fpr, rf_tpr, _ = roc_curve(Y_test, rf_probs)\r\n",
        "lr_fpr, lr_tpr, _ = roc_curve(Y_test, lr_probs)"
      ],
      "execution_count": 46,
      "outputs": []
    },
    {
      "cell_type": "markdown",
      "metadata": {
        "id": "_Q7D50sUWxUE"
      },
      "source": [
        "\r\n",
        "##Plot the ROC curve"
      ]
    },
    {
      "cell_type": "code",
      "metadata": {
        "colab": {
          "base_uri": "https://localhost:8080/",
          "height": 295
        },
        "id": "_aNThHLDWsJD",
        "outputId": "e7cc2494-2c22-4902-e6a5-7cd1177c6921"
      },
      "source": [
        "\r\n",
        "plt.plot(r_fpr, r_tpr, linestyle='--', label='Random prediction (AUROC = %0.3f)' % r_auc)\r\n",
        "plt.plot(rf_fpr, rf_tpr, marker='.', label='Random Forest (AUROC = %0.3f)' % rf_auc)\r\n",
        "plt.plot(lr_fpr, lr_tpr, marker='.', label='Logistic Regression (AUROC = %0.3f)' % lr_auc)\r\n",
        "\r\n",
        "# Title\r\n",
        "plt.title('ROC Plot')\r\n",
        "# Axis labels\r\n",
        "plt.xlabel('False Positive Rate')\r\n",
        "plt.ylabel('True Positive Rate')\r\n",
        "# Show legend\r\n",
        "plt.legend() # \r\n",
        "# Show plot\r\n",
        "plt.show()"
      ],
      "execution_count": 47,
      "outputs": [
        {
          "output_type": "display_data",
          "data": {
            "image/png": "[encoded data removed]",
            "text/plain": [
              "<Figure size 432x288 with 1 Axes>"
            ]
          },
          "metadata": {
            "tags": [],
            "needs_background": "light"
          }
        }
      ]
    },
    {
      "cell_type": "markdown",
      "metadata": {
        "id": "Rxovt2lJN-t8"
      },
      "source": [
        "The best overall model is the Logistic Regression based on the 10-Fold K-Fold Cross Validation. "
      ]
    }
  ]
}